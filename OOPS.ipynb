{
  "nbformat": 4,
  "nbformat_minor": 0,
  "metadata": {
    "colab": {
      "provenance": []
    },
    "kernelspec": {
      "name": "python3",
      "display_name": "Python 3"
    },
    "language_info": {
      "name": "python"
    }
  },
  "cells": [
    {
      "cell_type": "markdown",
      "source": [
        "#Python OOPS Questions\n"
      ],
      "metadata": {
        "id": "FZfj6arhqYfb"
      }
    },
    {
      "cell_type": "markdown",
      "source": [
        "1. What is Object-Oriented Programming (OOP)?\n",
        "- Object-Oriented Programming (OOP) is a programming model that organizes software around objects, which are entities that combine data and the functions (methods) that operate on that data, rather than focusing on functions and logic. It utilizes concepts like classes (blueprints for objects), encapsulation, inheritance, polymorphism, and abstraction to structure code, making it more modular, reusable, and maintainable, especially for large and complex applications.  \n"
      ],
      "metadata": {
        "id": "ELDsGP4brvGe"
      }
    },
    {
      "cell_type": "markdown",
      "source": [
        "2.What is a class in OOP?\n",
        "- A class is a way of organizing information about a type of data so a programmer can reuse elements when making multiple instances of that data type. Class serves as a blueprint or template for creating objects. It defines the structure and behavior that its objects will possess."
      ],
      "metadata": {
        "id": "ht-ypTs7sdHK"
      }
    },
    {
      "cell_type": "markdown",
      "source": [
        "3.What is an object in OOP?\n",
        "- In object-oriented programming (OOP), an object is an instance of a class, representing a real-world entity with both data (properties) and behavior (methods). Objects are the fundamental building blocks of OOP applications, encapsulating these attributes and actions, and can interact with each other to perform tasks, making code modular, reusable, and easier to manage."
      ],
      "metadata": {
        "id": "GjE3vGFYtD9U"
      }
    },
    {
      "cell_type": "markdown",
      "source": [
        "4.What is the difference between abstraction and encapsulation?\n",
        "- Abstraction is the process of hiding complex implementation details and showing only the essential features of an object or system, answering the \"what\" it does. In contrast, encapsulation is the process of bundling data (variables) and the methods that operate on that data into a single unit, like a class, and controlling their visibility to the outside world, which answers the \"how\" it's done.  \n"
      ],
      "metadata": {
        "id": "vPngeYrxtXpm"
      }
    },
    {
      "cell_type": "markdown",
      "source": [
        "5.What are dunder methods in Python?\n",
        "- Dunder methods, also known as magic methods or special methods, are a core feature of Python's object-oriented programming paradigm. The term \"dunder\" is a shorthand for \"double underscore,\" referring to the double underscores that prefix and suffix their names (e.g., __init__, __add__, __str__)."
      ],
      "metadata": {
        "id": "G5K4sMwUtu0B"
      }
    },
    {
      "cell_type": "markdown",
      "source": [
        "6. Explain the concept of inheritance in OOP.\n",
        "- In object-oriented programming (OOP), inheritance is a mechanism that allows a new class (child class or subclass) to acquire properties and behaviors (methods) from an existing class (parent class or superclass). This promotes code reusability, reduces redundancy, and establishes an \"is-a\" relationship, such as a \"Cat is an Animal\". The child class can use the parent's code as is, and also add its own unique features or modify inherited ones.  "
      ],
      "metadata": {
        "id": "3JbOeTdVuNtY"
      }
    },
    {
      "cell_type": "markdown",
      "source": [
        "7.What is polymorphism in OOP?\n",
        "- Polymorphism in Object-Oriented Programming (OOP) is the ability of an object to take on many forms, allowing a single interface to represent different underlying forms or types. This means different classes can respond to the same method call in their own unique ways, enhancing code flexibility and reusability. The two main types are Compile-time Polymorphism (static, like method overloading) and Runtime Polymorphism (dynamic, like method overriding).  "
      ],
      "metadata": {
        "id": "0hK8Ndv7un0b"
      }
    },
    {
      "cell_type": "markdown",
      "source": [
        "8.How is encapsulation achieved in Python?\n",
        "- Encapsulation is achieved by making a class's data members (variables) private and providing public methods (getters and setters) to access and manipulate that data in a controlled way. This bundling of data with the methods that operate on it creates a protective shield, hiding the internal state of an object and ensuring that data can only be changed through a well-defined, public interface.  \n",
        "- How to achieve encapsulation:\n",
        "- Declare data members as private: Use access modifiers like private to restrict direct access to the class's attributes from outside the class.\n",
        "- Provide public getter methods: Create public methods (e.g., getName()) to retrieve the values of the private variables.\n",
        "- Provide public setter methods: Create public methods (e.g., setName(newName)) to modify the values of the private variables, often with built-in validation or logic.\n",
        "- Bundle data and methods: Ensure that the private data and the public methods that operate on it are all defined within the same class, creating a single, cohesive unit."
      ],
      "metadata": {
        "id": "CRCM1-E6u5Ze"
      }
    },
    {
      "cell_type": "markdown",
      "source": [
        "9.What is a constructor in Python?\n",
        "- In Python, a constructor is a special method within a class that is automatically invoked when a new object (instance) of that class is created. Its primary purpose is to initialize the object's attributes (data members) to a desired initial state.\n",
        "#Example"
      ],
      "metadata": {
        "id": "A2M7hPvCviGR"
      }
    },
    {
      "cell_type": "code",
      "execution_count": null,
      "metadata": {
        "colab": {
          "base_uri": "https://localhost:8080/"
        },
        "id": "v6qkFVbyqUME",
        "outputId": "46d04a32-97ce-4b5c-f4ee-a6a6c160cbcc"
      },
      "outputs": [
        {
          "output_type": "stream",
          "name": "stdout",
          "text": [
            "Buddy\n",
            "Golden Retriever\n",
            "Buddy says Woof!\n"
          ]
        }
      ],
      "source": [
        "class Dog:\n",
        "    def __init__(self, name, breed):\n",
        "        self.name = name  # Initialize the 'name' attribute\n",
        "        self.breed = breed # Initialize the 'breed' attribute\n",
        "\n",
        "    def bark(self):\n",
        "        print(f\"{self.name} says Woof!\")\n",
        "\n",
        "# Creating a Dog object, which automatically calls the __init__ constructor\n",
        "my_dog = Dog(\"Buddy\", \"Golden Retriever\")\n",
        "\n",
        "print(my_dog.name)  # Output: Buddy\n",
        "print(my_dog.breed) # Output: Golden Retriever\n",
        "my_dog.bark()       # Output: Buddy says Woof!"
      ]
    },
    {
      "cell_type": "markdown",
      "source": [
        "10.What are class and static methods in Python?\n",
        "- The @classmethod decorator is a built-in function decorator that is an expression that gets evaluated after your function is defined. The result of that evaluation shadows your function definition. A class method receives the class as an implicit first argument, just like an instance method receives the instance.A class method is a method that is bound to the class and not the object of the class.\n",
        "They have the access to the state of the class as it takes a class parameter that points to the class and not the object instance.\n",
        "It can modify a class state that would apply across all the instances of the class. For example, it can modify a class variable that will be applicable to all the instances.\n",
        "- Static Method- A static method does not receive an implicit first argument. A static method is also a method that is bound to the class and not the object of the class. This method can't access or modify the class state. It is present in a class because it makes sense for the method to be present in class."
      ],
      "metadata": {
        "id": "bYCdQoqrwR20"
      }
    },
    {
      "cell_type": "markdown",
      "source": [
        "11. What is method overloading in Python?\n",
        "- Method overloading in Python refers to the concept of having multiple methods with the same name within a single class, but with different parameters or argument lists. While Python does not support true method overloading in the same way as statically-typed languages like Java or C++, it provides mechanisms to achieve similar functionality.\n",
        "The primary ways to achieve method overloading in Python are: using default arguments.\n",
        "One method can be designed to handle different scenarios by providing default values for some of its parameters."
      ],
      "metadata": {
        "id": "O9CQ5Bj8xeNL"
      }
    },
    {
      "cell_type": "markdown",
      "source": [
        "12.What is method overriding in OOP?\n",
        "- Method overriding in Python is when you have two methods with the same name that each perform different tasks. This is an important feature of inheritance in Python. In method overriding, the child class can change its functions that are defined by its ancestral classes."
      ],
      "metadata": {
        "id": "OG-qtEotx2xG"
      }
    },
    {
      "cell_type": "markdown",
      "source": [
        "13.What is a property decorator in Python?\n",
        "- In Python, the @property decorator is a built-in decorator that allows methods to be accessed like attributes, providing a more \"Pythonic\" way to manage class attributes. It is a fundamental tool for implementing managed attributes, often used to encapsulate the logic for getting, setting, or deleting an attribute's value without explicitly calling getter and setter methods."
      ],
      "metadata": {
        "id": "IQzUoVTiyHH0"
      }
    },
    {
      "cell_type": "markdown",
      "source": [
        "14.Why is polymorphism important in OOP?\n",
        "- Polymorphism is a powerful concept in object-oriented programming that offers numerous advantages, including increased code reusability, improved code flexibility, enhanced code readability, better error handling, improved code maintainability, and enhanced code extensibility.Polymorphism is important in python because enables you to write more flexible and reusable code by allowing objects of different classes to be treated as objects of a common superclass. This fundamental OOP principle makes your code more modular, extensible, and easier to maintain."
      ],
      "metadata": {
        "id": "9TdFxaqHyWnS"
      }
    },
    {
      "cell_type": "markdown",
      "source": [
        "15.What is an abstract class in Python?\n",
        "- An abstract class is like a template for other classes. It defines methods that must be included in any class that inherits from it, but it doesn’t provide the actual code for those methods.\n",
        "\n",
        "Think of it as a recipe without specific ingredients—it tells you what steps to follow, but the details depend on the subclass.\n",
        " #example\n",
        " Let’s say you’re building a program to calculate the area of different shapes.\n",
        " - You create an abstract class called Shape that says every shape must have an area() method.\n",
        " - But Shape doesn’t define how area() works—because the formula depends on the type of shape.\n",
        " - Each specific shape (like a Circle or Rectangle) inherits from Shape and provides its own version of area()."
      ],
      "metadata": {
        "id": "piaO7NnRy79i"
      }
    },
    {
      "cell_type": "markdown",
      "source": [
        "16.What are the advantages of OOP?\n",
        "- Object-Oriented Programming (OOP) offers advantages like modularity, reusability, scalability, maintainability, and flexibility through concepts such as encapsulation, inheritance, and polymorphism. These principles help developers create well-structured, adaptable, and secure software by breaking complex systems into manageable objects, reducing redundancy, and simplifying code updates."
      ],
      "metadata": {
        "id": "QmT2toxqzpMu"
      }
    },
    {
      "cell_type": "markdown",
      "source": [
        "17.What is the difference between a class variable and an instance variable?\n",
        "- Instance Variable: It is basically a class variable without a static modifier and is usually shared by all class instances. Across different objects, these variables can have different values. They are tied to a particular object instance of the class, therefore, the contents of an instance variable are totally independent of one object instance to others.\n",
        "- Class Variable: It is basically a static variable that can be declared anywhere at class level with static. Across different objects, these variables can have only one value. These variables are not tied to any particular object of the class, therefore, can share across all objects of the class.  \n",
        "\n"
      ],
      "metadata": {
        "id": "kbg914ZM5Uls"
      }
    },
    {
      "cell_type": "markdown",
      "source": [
        "18.What is multiple inheritance in Python?\n",
        "- Multiple inheritance is an object-oriented programming concept where a single child class inherits properties and methods from more than one parent class. This allows a class to combine behaviors from different sources, promoting code reusability and the creation of complex hierarchies, but it also can lead to issues like ambiguity, which some languages handle by supporting multiple interface inheritance instead of class inheritance."
      ],
      "metadata": {
        "id": "1ZOnmtzk6DBa"
      }
    },
    {
      "cell_type": "markdown",
      "source": [
        "19.Explain the purpose of ‘’__str__’ and ‘__repr__’ ‘ methods in Python.\n",
        "- In Python, __str__ and __repr__ are special methods (also known as \"dunder methods\") used to define how an object is represented as a string. They serve different purposes and are intended for different audiences.\n",
        "- __str__ (String Representation for Users):\n",
        "- Purpose: The __str__ method is intended to return a \"user-friendly\" or informal string representation of an object. This representation should be easily readable and understandable by someone who is using the program, not necessarily a developer inspecting the object's internal state.\n",
        "- Usage: It is implicitly called by functions like print() and str().\n",
        "- Example: For a Person object, __str__ might return \"John Doe\".\n",
        "- __repr__ (Representation for Developers):\n",
        "- Purpose: The __repr__ method is intended to return a \"developer-friendly\" or formal string representation of an object. This representation should be unambiguous and, ideally, provide enough information to recreate the object (or at least its essential state). It is primarily used for debugging and development.\n",
        "- Usage: It is implicitly called when an object is evaluated in the Python REPL (interactive interpreter) or when the repr() function is used.\n",
        "- Example: For a Person object, __repr__ might return \"Person(first='John', last='Doe')\"."
      ],
      "metadata": {
        "id": "NVwzVuuq6YVq"
      }
    },
    {
      "cell_type": "markdown",
      "source": [
        "20.What is the significance of the ‘super()’ function in Python?\n",
        "- The Python super function allows us to call a method from a parent class in a subclass. This is used whenever we want to override a method in the parent class while using some of its functionality. It makes the code more readable and more efficient as we do not need to repeat the code from the parent class.The most common use of the super keyword is to eliminate the confusion between superclasses and subclasses that have methods with the same name.\n"
      ],
      "metadata": {
        "id": "rK7T7wvO7Sc8"
      }
    },
    {
      "cell_type": "markdown",
      "source": [
        "21.What is the significance of the __del__ method in Python?\n",
        "- The del keyword is used to delete objects. In Python everything is an object, so the del keyword can also be used to delete variables, lists, or parts of a list etc."
      ],
      "metadata": {
        "id": "2s9u1KTa70Tr"
      }
    },
    {
      "cell_type": "markdown",
      "source": [
        "22.What is the difference between @staticmethod and @classmethod in Python?\n",
        "- The primary difference between @staticmethod and @classmethod in Python lies in their access to the class and its instances.\n",
        "- @classmethod:\n",
        "- Takes the class itself (cls) as its first argument.\n",
        "- Can access and modify class-level attributes and call other class methods.\n",
        "- Is commonly used for factory methods (creating instances in a specific way) or for methods that operate on class-level data."
      ],
      "metadata": {
        "id": "DDm4tzaj8JAO"
      }
    },
    {
      "cell_type": "code",
      "source": [
        "    class MyClass:\n",
        "        class_variable = \"I am a class variable\"\n",
        "\n",
        "        @classmethod\n",
        "        def class_method(cls):\n",
        "            print(f\"Accessing class variable: {cls.class_variable}\")\n",
        "            cls.class_variable = \"Modified class variable\"\n",
        "            print(f\"Modified class variable: {cls.class_variable}\")"
      ],
      "metadata": {
        "id": "GJwkJ1-s8hLN"
      },
      "execution_count": null,
      "outputs": []
    },
    {
      "cell_type": "markdown",
      "source": [
        "- @staticmethod:\n",
        "- Does not take self (instance) or cls (class) as its first argument.\n",
        "Cannot access or modify class-level attributes or instance-level attributes directly.\n",
        "- Is essentially a regular function that is logically grouped within a class, but it does not depend on the state of the class or any instance.-\n",
        "- Is typically used for utility functions that are related to the class but do not require any class or instance context."
      ],
      "metadata": {
        "id": "oVMnmG4M8vOq"
      }
    },
    {
      "cell_type": "code",
      "source": [
        "    class MyClass:\n",
        "        @staticmethod\n",
        "        def static_method(a, b):\n",
        "            return a + b\n",
        "\n",
        "    # You can call a static method on the class or an instance\n",
        "    result = MyClass.static_method(5, 3)\n",
        "    print(f\"Static method result: {result}\")"
      ],
      "metadata": {
        "colab": {
          "base_uri": "https://localhost:8080/"
        },
        "id": "3YM2alqx89mB",
        "outputId": "a16a587c-cfb3-4b47-f566-68224c658118"
      },
      "execution_count": null,
      "outputs": [
        {
          "output_type": "stream",
          "name": "stdout",
          "text": [
            "Static method result: 8\n"
          ]
        }
      ]
    },
    {
      "cell_type": "markdown",
      "source": [
        "23.How does polymorphism work in Python with inheritance?\n",
        "- Polymorphism, in the context of Python and inheritance, refers to the ability of objects of different classes to respond to the same method call in their own specific ways. This is primarily achieved through method overriding in inherited classes.\n",
        "Here's how it works:\n",
        "- Inheritance: You define a base (parent) class with certain methods. Child (derived) classes then inherit from this base class, gaining access to its - - methods and attributes.\n",
        "- Method Overriding: A child class can provide its own implementation for a method that it inherited from its parent class. When an object of the child class calls this method, the child's specific implementation is executed instead of the parent's. This re-implementation is known as method overriding.\n",
        "- Polymorphism in Action: Because of method overriding, you can treat objects of different child classes as if they were objects of the base class when calling the overridden method. The exact behavior of the method will depend on the actual type of the object at runtime.\n",
        "#example\n",
        "- Consider a Vehicle base class with a move() method. You could then have Car and Boat child classes, both inheriting from Vehicle. Each child class could override the move() method to describe how a car moves versus how a boat moves."
      ],
      "metadata": {
        "id": "M7fPISHi9SLU"
      }
    },
    {
      "cell_type": "code",
      "source": [
        "class Vehicle:\n",
        "    def move(self):\n",
        "        print(\"Vehicle is moving.\")\n",
        "\n",
        "class Car(Vehicle):\n",
        "    def move(self):\n",
        "        print(\"Car is driving on the road.\")\n",
        "\n",
        "class Boat(Vehicle):\n",
        "    def move(self):\n",
        "        print(\"Boat is sailing on the water.\")\n",
        "\n",
        "# Create objects of different classes\n",
        "my_car = Car()\n",
        "my_boat = Boat()\n",
        "generic_vehicle = Vehicle()\n",
        "\n",
        "# Call the 'move' method on different objects\n",
        "generic_vehicle.move()\n",
        "my_car.move()\n",
        "my_boat.move()"
      ],
      "metadata": {
        "colab": {
          "base_uri": "https://localhost:8080/"
        },
        "id": "rSIcBtYl-YNw",
        "outputId": "5ea0d269-ebd0-4353-b1eb-e126c46f7fcc"
      },
      "execution_count": null,
      "outputs": [
        {
          "output_type": "stream",
          "name": "stdout",
          "text": [
            "Vehicle is moving.\n",
            "Car is driving on the road.\n",
            "Boat is sailing on the water.\n"
          ]
        }
      ]
    },
    {
      "cell_type": "markdown",
      "source": [
        "24. What is method chaining in Python OOP?\n",
        "- Method chaining is a powerful technique in Python programming that allows us to call multiple methods on an object in a single, continuous line of code. This approach makes the code cleaner, more readable, and often easier to maintain."
      ],
      "metadata": {
        "id": "ynmcFWXD-dC7"
      }
    },
    {
      "cell_type": "code",
      "source": [
        "text = \" hello, gfg! \"\n",
        "result = text.strip().capitalize().replace(\"gfg\", \"GeeksForGeeks\")\n",
        "print(result)"
      ],
      "metadata": {
        "colab": {
          "base_uri": "https://localhost:8080/"
        },
        "id": "jgKARQjD-26e",
        "outputId": "56aff3e0-799d-4b60-b969-e472619cf6f3"
      },
      "execution_count": null,
      "outputs": [
        {
          "output_type": "stream",
          "name": "stdout",
          "text": [
            "Hello, GeeksForGeeks!\n"
          ]
        }
      ]
    },
    {
      "cell_type": "markdown",
      "source": [
        "25. What is the purpose of the __call__ method in Python?\n",
        "- The primary purpose of the __call__ method in Python is to make instances of a class callable, meaning they can be invoked like regular functions.\n",
        "When you define the __call__ method within a class, and then create an object (an instance) of that class, you can subsequently \"call\" that object using parentheses, just as you would call a function. The arguments passed during this \"call\" will be received by the __call__ method of the object."
      ],
      "metadata": {
        "id": "jWS7Vze0-8nS"
      }
    },
    {
      "cell_type": "code",
      "source": [
        "class Multiplier:\n",
        "    def __init__(self, factor):\n",
        "        self.factor = factor\n",
        "\n",
        "    def __call__(self, number):\n",
        "        return number * self.factor\n",
        "\n",
        "# Create an instance of Multiplier\n",
        "double_it = Multiplier(2)\n",
        "\n",
        "# Call the instance like a function\n",
        "result = double_it(5)\n",
        "print(result)  # Output: 10\n",
        "\n",
        "triple_it = Multiplier(3)\n",
        "result2 = triple_it(5)\n",
        "print(result2) # Output: 15"
      ],
      "metadata": {
        "colab": {
          "base_uri": "https://localhost:8080/"
        },
        "id": "o6BkcEha_cAE",
        "outputId": "70f2d61d-8757-4469-a676-60e83b427b88"
      },
      "execution_count": null,
      "outputs": [
        {
          "output_type": "stream",
          "name": "stdout",
          "text": [
            "10\n",
            "15\n"
          ]
        }
      ]
    },
    {
      "cell_type": "markdown",
      "source": [
        "#Practical Questions"
      ],
      "metadata": {
        "id": "BcnAZq_QADrE"
      }
    },
    {
      "cell_type": "markdown",
      "source": [
        "1. Create a parent class Animal with a method speak() that prints a generic message. Create a child class Dog\n",
        "that overrides the speak() method to print \"Bark!\"."
      ],
      "metadata": {
        "id": "BLGXrgqACRzL"
      }
    },
    {
      "cell_type": "code",
      "source": [
        "# Parent class\n",
        "class Animal:\n",
        "    def speak(self):\n",
        "        print(\"This is a generic animal sound.\")\n",
        "\n",
        "# Child class inheriting from Animal\n",
        "class Dog(Animal):\n",
        "    # Override the speak() method\n",
        "    def speak(self):\n",
        "        print(\"Bark!\")\n",
        "\n",
        "# Example usage:\n",
        "generic_animal = Animal()\n",
        "generic_animal.speak()  # Output: This is a generic animal sound.\n",
        "\n",
        "my_dog = Dog()\n",
        "my_dog.speak()          # Output: Bark!"
      ],
      "metadata": {
        "colab": {
          "base_uri": "https://localhost:8080/"
        },
        "id": "Y6GwXYEnCceo",
        "outputId": "42944316-2afd-49c6-a1f6-bed89d9e9610"
      },
      "execution_count": null,
      "outputs": [
        {
          "output_type": "stream",
          "name": "stdout",
          "text": [
            "This is a generic animal sound.\n",
            "Bark!\n"
          ]
        }
      ]
    },
    {
      "cell_type": "markdown",
      "source": [
        "2. Write a program to create an abstract class Shape with a method area(). Derive classes Circle and Rectangle\n",
        "from it and implement the area() method in both.\n",
        "\n",
        "\n"
      ],
      "metadata": {
        "id": "aT0kK5-nCvLE"
      }
    },
    {
      "cell_type": "code",
      "source": [
        "from abc import ABC, abstractmethod\n",
        "import math\n",
        "\n",
        "class Shape(ABC):\n",
        "    \"\"\"\n",
        "    Abstract base class for shapes.\n",
        "    Defines an abstract method area() that must be implemented by subclasses.\n",
        "    \"\"\"\n",
        "    @abstractmethod\n",
        "    def area(self):\n",
        "        \"\"\"\n",
        "        Abstract method to calculate the area of the shape.\n",
        "        Subclasses must implement this method.\n",
        "        \"\"\"\n",
        "        pass\n",
        "\n",
        "class Circle(Shape):\n",
        "    \"\"\"\n",
        "    Derived class representing a circle.\n",
        "    Implements the area() method for a circle.\n",
        "    \"\"\"\n",
        "    def __init__(self, radius):\n",
        "        \"\"\"\n",
        "        Initializes a Circle object with a given radius.\n",
        "        \"\"\"\n",
        "        if radius <= 0:\n",
        "            raise ValueError(\"Radius must be a positive value.\")\n",
        "        self.radius = radius\n",
        "\n",
        "    def area(self):\n",
        "        \"\"\"\n",
        "        Calculates and returns the area of the circle.\n",
        "        \"\"\"\n",
        "        return math.pi * self.radius ** 2\n",
        "\n",
        "class Rectangle(Shape):\n",
        "    \"\"\"\n",
        "    Derived class representing a rectangle.\n",
        "    Implements the area() method for a rectangle.\n",
        "    \"\"\"\n",
        "    def __init__(self, length, width):\n",
        "        \"\"\"\n",
        "        Initializes a Rectangle object with given length and width.\n",
        "        \"\"\"\n",
        "        if length <= 0 or width <= 0:\n",
        "            raise ValueError(\"Length and width must be positive values.\")\n",
        "        self.length = length\n",
        "        self.width = width\n",
        "\n",
        "    def area(self):\n",
        "        \"\"\"\n",
        "        Calculates and returns the area of the rectangle.\n",
        "        \"\"\"\n",
        "        return self.length * self.width\n",
        "\n",
        "# Example Usage:\n",
        "if __name__ == \"__main__\":\n",
        "    try:\n",
        "        circle = Circle(5)\n",
        "        print(f\"Area of Circle with radius {circle.radius}: {circle.area():.2f}\")\n",
        "\n",
        "        rectangle = Rectangle(4, 6)\n",
        "        print(f\"Area of Rectangle with length {rectangle.length} and width {rectangle.width}: {rectangle.area():.2f}\")\n",
        "\n",
        "        # Attempting to create a shape with invalid dimensions\n",
        "        invalid_circle = Circle(-2)\n",
        "    except ValueError as e:\n",
        "        print(f\"Error creating shape: {e}\")\n",
        "\n",
        "    try:\n",
        "        invalid_rectangle = Rectangle(0, 5)\n",
        "    except ValueError as e:\n",
        "        print(f\"Error creating shape: {e}\")"
      ],
      "metadata": {
        "colab": {
          "base_uri": "https://localhost:8080/"
        },
        "id": "EWTd18v3C16G",
        "outputId": "43f9db4d-2852-4f88-a1f6-04ae4563c884"
      },
      "execution_count": null,
      "outputs": [
        {
          "output_type": "stream",
          "name": "stdout",
          "text": [
            "Area of Circle with radius 5: 78.54\n",
            "Area of Rectangle with length 4 and width 6: 24.00\n",
            "Error creating shape: Radius must be a positive value.\n",
            "Error creating shape: Length and width must be positive values.\n"
          ]
        }
      ]
    },
    {
      "cell_type": "markdown",
      "source": [
        "3.Implement a multi-level inheritance scenario where a class Vehicle has an attribute type. Derive a class Car\n",
        "and further derive a class ElectricCar that adds a battery attribute."
      ],
      "metadata": {
        "id": "YofVEDhqDNzZ"
      }
    },
    {
      "cell_type": "code",
      "source": [
        "class Vehicle:\n",
        "    def __init__(self, vehicle_type):\n",
        "        self.type = vehicle_type\n",
        "\n",
        "    def display_vehicle_info(self):\n",
        "        print(f\"Vehicle Type: {self.type}\")\n",
        "\n",
        "class Car(Vehicle):\n",
        "    def __init__(self, vehicle_type, make, model):\n",
        "        super().__init__(vehicle_type)\n",
        "        self.make = make\n",
        "        self.model = model\n",
        "\n",
        "    def display_car_info(self):\n",
        "        self.display_vehicle_info()\n",
        "        print(f\"Make: {self.make}, Model: {self.model}\")\n",
        "\n",
        "class ElectricCar(Car):\n",
        "    def __init__(self, vehicle_type, make, model, battery_capacity):\n",
        "        super().__init__(vehicle_type, make, model)\n",
        "        self.battery_capacity = battery_capacity\n",
        "\n",
        "    def display_electric_car_info(self):\n",
        "        self.display_car_info()\n",
        "        print(f\"Battery Capacity: {self.battery_capacity} kWh\")\n",
        "\n",
        "# Example Usage\n",
        "if __name__ == \"__main__\":\n",
        "    # Create a Vehicle object\n",
        "    my_vehicle = Vehicle(\"Motorcycle\")\n",
        "    my_vehicle.display_vehicle_info()\n",
        "    print(\"-\" * 20)\n",
        "\n",
        "    # Create a Car object\n",
        "    my_car = Car(\"Sedan\", \"Toyota\", \"Camry\")\n",
        "    my_car.display_car_info()\n",
        "    print(\"-\" * 20)\n",
        "\n",
        "    # Create an ElectricCar object\n",
        "    my_electric_car = ElectricCar(\"SUV\", \"Tesla\", \"Model Y\", 75)\n",
        "    my_electric_car.display_electric_car_info()"
      ],
      "metadata": {
        "colab": {
          "base_uri": "https://localhost:8080/"
        },
        "id": "nViGWaTfDSfS",
        "outputId": "85e45df9-82bc-40b6-bd27-c7f4db1cb719"
      },
      "execution_count": null,
      "outputs": [
        {
          "output_type": "stream",
          "name": "stdout",
          "text": [
            "Vehicle Type: Motorcycle\n",
            "--------------------\n",
            "Vehicle Type: Sedan\n",
            "Make: Toyota, Model: Camry\n",
            "--------------------\n",
            "Vehicle Type: SUV\n",
            "Make: Tesla, Model: Model Y\n",
            "Battery Capacity: 75 kWh\n"
          ]
        }
      ]
    },
    {
      "cell_type": "markdown",
      "source": [
        "4.Demonstrate polymorphism by creating a base class Bird with a method fly(). Create two derived classes\n",
        "Sparrow and Penguin that override the fly() method.\n"
      ],
      "metadata": {
        "id": "1cqxM1ixDfAM"
      }
    },
    {
      "cell_type": "code",
      "source": [
        "class Bird:\n",
        "    def fly(self):\n",
        "        \"\"\"Base method for flying (for birds that can fly).\"\"\"\n",
        "        print(\"The bird is flying.\")\n",
        "\n",
        "class Sparrow(Bird):\n",
        "    def fly(self):\n",
        "        \"\"\"Overridden method for Sparrow to fly.\"\"\"\n",
        "        print(\"The sparrow flies high in the sky!\")\n",
        "\n",
        "class Penguin(Bird):\n",
        "    def fly(self):\n",
        "        \"\"\"Overridden method for Penguin, which cannot fly.\"\"\"\n",
        "        print(\"Penguins can't fly, they waddle and swim!\")\n",
        "\n",
        "# Demonstrating Polymorphism\n",
        "# Create objects of the derived classes\n",
        "sparrow = Sparrow()\n",
        "penguin = Penguin()\n",
        "\n",
        "# Call the fly() method on each object\n",
        "sparrow.fly()  # Output: The sparrow flies high in the sky!\n",
        "penguin.fly()  # Output: Penguins can't fly, they waddle and swim!\n",
        "\n",
        "# You can also achieve this using a list of generic Bird objects\n",
        "birds = [Sparrow(), Penguin()]\n",
        "\n",
        "for bird in birds:\n",
        "    bird.fly()\n",
        "# Output:\n",
        "# The sparrow flies high in the sky!\n",
        "# Penguins can't fly, they waddle and swim!"
      ],
      "metadata": {
        "colab": {
          "base_uri": "https://localhost:8080/"
        },
        "id": "CCiOJijpDjkq",
        "outputId": "c3c79d31-a1e1-427b-8690-d878e1db0f9a"
      },
      "execution_count": null,
      "outputs": [
        {
          "output_type": "stream",
          "name": "stdout",
          "text": [
            "The sparrow flies high in the sky!\n",
            "Penguins can't fly, they waddle and swim!\n",
            "The sparrow flies high in the sky!\n",
            "Penguins can't fly, they waddle and swim!\n"
          ]
        }
      ]
    },
    {
      "cell_type": "markdown",
      "source": [
        "5.Write a program to demonstrate encapsulation by creating a class BankAccount with private attributes\n",
        "balance and methods to deposit, withdraw, and check balance."
      ],
      "metadata": {
        "id": "XfD1Co9qD19T"
      }
    },
    {
      "cell_type": "code",
      "source": [
        "class BankAccount:\n",
        "    def __init__(self, account_holder, initial_balance=0.0):\n",
        "        \"\"\"\n",
        "        Initializes a new BankAccount object.\n",
        "        The balance is a private attribute, accessible only through methods.\n",
        "        \"\"\"\n",
        "        self.__account_holder = account_holder\n",
        "        self.__balance = initial_balance\n",
        "        print(f\"Account created for {self.__account_holder} with initial balance: ${self.__balance:.2f}\")\n",
        "\n",
        "    def deposit(self, amount):\n",
        "        \"\"\"\n",
        "        Deposits a specified amount into the account.\n",
        "        \"\"\"\n",
        "        if amount > 0:\n",
        "            self.__balance += amount\n",
        "            print(f\"Deposited: ${amount:.2f}. New balance: ${self.__balance:.2f}\")\n",
        "        else:\n",
        "            print(\"Deposit amount must be positive.\")\n",
        "\n",
        "    def withdraw(self, amount):\n",
        "        \"\"\"\n",
        "        Withdraws a specified amount from the account.\n",
        "        Checks for sufficient funds and positive withdrawal amount.\n",
        "        \"\"\"\n",
        "        if amount <= 0:\n",
        "            print(\"Withdrawal amount must be positive.\")\n",
        "        elif amount > self.__balance:\n",
        "            print(\"Insufficient funds.\")\n",
        "        else:\n",
        "            self.__balance -= amount\n",
        "            print(f\"Withdrew: ${amount:.2f}. New balance: ${self.__balance:.2f}\")\n",
        "\n",
        "    def check_balance(self):\n",
        "        \"\"\"\n",
        "        Returns the current balance of the account.\n",
        "        \"\"\"\n",
        "        print(f\"Current balance for {self.__account_holder}: ${self.__balance:.2f}\")\n",
        "        return self.__balance\n",
        "\n",
        "# Demonstration of encapsulation\n",
        "if __name__ == \"__main__\":\n",
        "    # Create a bank account\n",
        "    my_account = BankAccount(\"Alice Smith\", 500.0)\n",
        "\n",
        "    # Perform operations using the public methods\n",
        "    my_account.deposit(200.0)\n",
        "    my_account.withdraw(100.0)\n",
        "    my_account.check_balance()\n",
        "\n",
        "    # Attempt to withdraw more than the balance\n",
        "    my_account.withdraw(700.0)\n",
        "    my_account.check_balance()\n",
        "\n",
        "    # Attempt to access the private balance directly (will result in an AttributeError)\n",
        "    # print(my_account.__balance) # This line would raise an AttributeError\n",
        "\n",
        "    # Demonstrating invalid deposit/withdrawal amounts\n",
        "    my_account.deposit(-50.0)\n",
        "    my_account.withdraw(0)"
      ],
      "metadata": {
        "colab": {
          "base_uri": "https://localhost:8080/"
        },
        "id": "ZdEu0BU7D5zd",
        "outputId": "bb8fd19a-e783-4105-e442-cae38f43abb2"
      },
      "execution_count": null,
      "outputs": [
        {
          "output_type": "stream",
          "name": "stdout",
          "text": [
            "Account created for Alice Smith with initial balance: $500.00\n",
            "Deposited: $200.00. New balance: $700.00\n",
            "Withdrew: $100.00. New balance: $600.00\n",
            "Current balance for Alice Smith: $600.00\n",
            "Insufficient funds.\n",
            "Current balance for Alice Smith: $600.00\n",
            "Deposit amount must be positive.\n",
            "Withdrawal amount must be positive.\n"
          ]
        }
      ]
    },
    {
      "cell_type": "markdown",
      "source": [
        "6.Demonstrate runtime polymorphism using a method play() in a base class Instrument. Derive classes Guitar\n",
        "and Piano that implement their own version of play()."
      ],
      "metadata": {
        "id": "DpUoULjUEC0W"
      }
    },
    {
      "cell_type": "code",
      "source": [
        "class Instrument:\n",
        "    def play(self):\n",
        "        \"\"\"\n",
        "        Base method for playing an instrument.\n",
        "        This method is intended to be overridden by derived classes.\n",
        "        \"\"\"\n",
        "        print(\"Playing a generic instrument sound.\")\n",
        "\n",
        "class Guitar(Instrument):\n",
        "    def play(self):\n",
        "        \"\"\"\n",
        "        Overrides the play method to produce a guitar sound.\n",
        "        \"\"\"\n",
        "        print(\"Strumming a guitar.\")\n",
        "\n",
        "class Piano(Instrument):\n",
        "    def play(self):\n",
        "        \"\"\"\n",
        "        Overrides the play method to produce a piano sound.\n",
        "        \"\"\"\n",
        "        print(\"Pressing piano keys.\")\n",
        "\n",
        "# Demonstrate runtime polymorphism\n",
        "def make_instrument_play(instrument):\n",
        "    \"\"\"\n",
        "    Takes an Instrument object (or a derived class object) and calls its play method.\n",
        "    The specific play method executed depends on the actual type of the object at runtime.\n",
        "    \"\"\"\n",
        "    instrument.play()\n",
        "\n",
        "# Create instances of derived classes\n",
        "my_guitar = Guitar()\n",
        "my_piano = Piano()\n",
        "generic_instrument = Instrument()\n",
        "\n",
        "# Call the function with different instrument types\n",
        "print(\"Demonstrating runtime polymorphism:\")\n",
        "make_instrument_play(my_guitar)\n",
        "make_instrument_play(my_piano)\n",
        "make_instrument_play(generic_instrument)\n",
        "\n",
        "# Directly calling the play method on objects\n",
        "print(\"\\nDirectly calling play methods:\")\n",
        "my_guitar.play()\n",
        "my_piano.play()\n",
        "generic_instrument.play()"
      ],
      "metadata": {
        "colab": {
          "base_uri": "https://localhost:8080/"
        },
        "id": "N28zclrkEHQo",
        "outputId": "19a1810a-5e79-4033-a8ef-39d12fce82e8"
      },
      "execution_count": null,
      "outputs": [
        {
          "output_type": "stream",
          "name": "stdout",
          "text": [
            "Demonstrating runtime polymorphism:\n",
            "Strumming a guitar.\n",
            "Pressing piano keys.\n",
            "Playing a generic instrument sound.\n",
            "\n",
            "Directly calling play methods:\n",
            "Strumming a guitar.\n",
            "Pressing piano keys.\n",
            "Playing a generic instrument sound.\n"
          ]
        }
      ]
    },
    {
      "cell_type": "markdown",
      "source": [
        "7. Create a class MathOperations with a class method add_numbers() to add two numbers and a static\n",
        "method subtract_numbers() to subtract two numbers."
      ],
      "metadata": {
        "id": "lydkqiZ5ERkp"
      }
    },
    {
      "cell_type": "code",
      "source": [
        "class MathOperations:\n",
        "    \"\"\"\n",
        "    A class containing a class method and a static method for basic math operations.\n",
        "    \"\"\"\n",
        "\n",
        "    @classmethod\n",
        "    def add_numbers(cls, num1, num2):\n",
        "        \"\"\"\n",
        "        A class method to add two numbers.\n",
        "\n",
        "        Args:\n",
        "            num1: The first number.\n",
        "            num2: The second number.\n",
        "\n",
        "        Returns:\n",
        "            The sum of the two numbers.\n",
        "        \"\"\"\n",
        "        print(f\"Calling a class method on the class '{cls.__name__}'\")\n",
        "        return num1 + num2\n",
        "\n",
        "    @staticmethod\n",
        "    def subtract_numbers(num1, num2):\n",
        "        \"\"\"\n",
        "        A static method to subtract two numbers.\n",
        "\n",
        "        Args:\n",
        "            num1: The first number.\n",
        "            num2: The second number.\n",
        "\n",
        "        Returns:\n",
        "            The difference of the two numbers.\n",
        "        \"\"\"\n",
        "        return num1 - num2\n",
        "\n",
        "# --- Example Usage ---\n",
        "\n",
        "# Call the class method directly on the class\n",
        "sum_result = MathOperations.add_numbers(10, 5)\n",
        "print(f\"Result of addition: {sum_result}\")\n",
        "# Expected output:\n",
        "# Calling a class method on the class 'MathOperations'\n",
        "# Result of addition: 15\n",
        "\n",
        "# Call the static method directly on the class\n",
        "difference_result = MathOperations.subtract_numbers(20, 8)\n",
        "print(f\"Result of subtraction: {difference_result}\")\n",
        "# Expected output:\n",
        "# Result of subtraction: 12\n",
        "\n",
        "# You can also call the methods on an instance of the class\n",
        "instance = MathOperations()\n",
        "sum_from_instance = instance.add_numbers(3, 7)\n",
        "difference_from_instance = instance.subtract_numbers(100, 50)\n",
        "\n",
        "print(f\"\\nResult from class method called on instance: {sum_from_instance}\")\n",
        "print(f\"Result from static method called on instance: {difference_from_instance}\")\n"
      ],
      "metadata": {
        "colab": {
          "base_uri": "https://localhost:8080/"
        },
        "id": "TMWn5e9JEWR5",
        "outputId": "a9a8c5d0-fdbc-4ac4-9548-36f0d150a7b7"
      },
      "execution_count": null,
      "outputs": [
        {
          "output_type": "stream",
          "name": "stdout",
          "text": [
            "Calling a class method on the class 'MathOperations'\n",
            "Result of addition: 15\n",
            "Result of subtraction: 12\n",
            "Calling a class method on the class 'MathOperations'\n",
            "\n",
            "Result from class method called on instance: 10\n",
            "Result from static method called on instance: 50\n"
          ]
        }
      ]
    },
    {
      "cell_type": "markdown",
      "source": [
        "8.Implement a class Person with a class method to count the total number of persons created."
      ],
      "metadata": {
        "id": "RKSkK97CEhNN"
      }
    },
    {
      "cell_type": "code",
      "source": [
        "class Person:\n",
        "    \"\"\"\n",
        "    A class to represent a person, with a class method to count instances.\n",
        "    \"\"\"\n",
        "    # A class variable to keep track of the total number of Person instances\n",
        "    total_persons = 0\n",
        "\n",
        "    def __init__(self, name):\n",
        "        \"\"\"\n",
        "        The constructor, which increments the class variable on each new instance.\n",
        "        \"\"\"\n",
        "        self.name = name\n",
        "        # Increment the class variable using the class itself (Person.total_persons)\n",
        "        # or cls.total_persons if accessed from a class method.\n",
        "        Person.total_persons += 1\n",
        "\n",
        "    @classmethod\n",
        "    def get_person_count(cls):\n",
        "        \"\"\"\n",
        "        A class method that returns the total number of persons created.\n",
        "        \"\"\"\n",
        "        return cls.total_persons\n",
        "\n",
        "# --- Example Usage ---\n",
        "\n",
        "# The count is initially 0.\n",
        "print(f\"Initial person count: {Person.get_person_count()}\")\n",
        "\n",
        "# Create the first person instance.\n",
        "person1 = Person(\"Alice\")\n",
        "print(f\"Person created: {person1.name}\")\n",
        "print(f\"Current person count: {Person.get_person_count()}\")\n",
        "\n",
        "# Create a second person instance.\n",
        "person2 = Person(\"Bob\")\n",
        "print(f\"Person created: {person2.name}\")\n",
        "print(f\"Current person count: {Person.get_person_count()}\")\n",
        "\n",
        "# Create a third person instance.\n",
        "person3 = Person(\"Charlie\")\n",
        "print(f\"Person created: {person3.name}\")\n",
        "print(f\"Final person count: {Person.get_person_count()}\")\n",
        "\n",
        "# You can also call the class method from an instance,\n",
        "# and it will still return the class-level count.\n",
        "print(f\"Count from person1 instance: {person1.get_person_count()}\")\n"
      ],
      "metadata": {
        "colab": {
          "base_uri": "https://localhost:8080/"
        },
        "id": "pDew6dqDEqaH",
        "outputId": "5a794abd-84b9-4a6b-9e2a-9f6ceef5b1e7"
      },
      "execution_count": null,
      "outputs": [
        {
          "output_type": "stream",
          "name": "stdout",
          "text": [
            "Initial person count: 0\n",
            "Person created: Alice\n",
            "Current person count: 1\n",
            "Person created: Bob\n",
            "Current person count: 2\n",
            "Person created: Charlie\n",
            "Final person count: 3\n",
            "Count from person1 instance: 3\n"
          ]
        }
      ]
    },
    {
      "cell_type": "markdown",
      "source": [
        "9.Write a class Fraction with attributes numerator and denominator. Override the str method to display the\n",
        "fraction as \"numerator/denominator\"."
      ],
      "metadata": {
        "id": "kN0IjlsnEzBe"
      }
    },
    {
      "cell_type": "code",
      "source": [
        "class Fraction:\n",
        "    \"\"\"\n",
        "    A class to represent a mathematical fraction.\n",
        "    \"\"\"\n",
        "    def __init__(self, numerator, denominator):\n",
        "        \"\"\"\n",
        "        Initializes a Fraction object with a numerator and denominator.\n",
        "\n",
        "        Args:\n",
        "            numerator (int): The number above the line.\n",
        "            denominator (int): The number below the line.\n",
        "        \"\"\"\n",
        "        if denominator == 0:\n",
        "            raise ValueError(\"Denominator cannot be zero.\")\n",
        "        self.numerator = numerator\n",
        "        self.denominator = denominator\n",
        "\n",
        "    def __str__(self):\n",
        "        \"\"\"\n",
        "        Overrides the standard string representation for the object.\n",
        "        Returns a string in the format \"numerator/denominator\".\n",
        "        \"\"\"\n",
        "        return f\"{self.numerator}/{self.denominator}\"\n",
        "\n",
        "# --- Example Usage ---\n",
        "\n",
        "# Create a Fraction object\n",
        "my_fraction = Fraction(3, 4)\n",
        "\n",
        "# Print the object directly, which calls the __str__() method\n",
        "print(f\"The fraction is: {my_fraction}\")\n",
        "\n",
        "# Convert the object to a string explicitly using str()\n",
        "fraction_as_string = str(my_fraction)\n",
        "print(f\"The fraction as a string: {fraction_as_string}\")\n",
        "\n",
        "# Create another Fraction object\n",
        "another_fraction = Fraction(10, 2)\n",
        "print(f\"Another fraction: {another_fraction}\")\n",
        "\n",
        "# Create a fraction that would be reduced in a full implementation,\n",
        "# but our __str__ method simply displays the attributes as is.\n",
        "unreduced_fraction = Fraction(6, 8)\n",
        "print(f\"An unreduced fraction: {unreduced_fraction}\")\n"
      ],
      "metadata": {
        "colab": {
          "base_uri": "https://localhost:8080/"
        },
        "id": "rreYy06lE20F",
        "outputId": "04371a02-5e8c-4db9-f2ab-29a182cdb402"
      },
      "execution_count": null,
      "outputs": [
        {
          "output_type": "stream",
          "name": "stdout",
          "text": [
            "The fraction is: 3/4\n",
            "The fraction as a string: 3/4\n",
            "Another fraction: 10/2\n",
            "An unreduced fraction: 6/8\n"
          ]
        }
      ]
    },
    {
      "cell_type": "markdown",
      "source": [
        "10. Demonstrate operator overloading by creating a class Vector and overriding the add method to add two\n",
        "vectors."
      ],
      "metadata": {
        "id": "C7mMFZoeFANp"
      }
    },
    {
      "cell_type": "code",
      "source": [
        "class Vector:\n",
        "    \"\"\"\n",
        "    A class to represent a mathematical vector and demonstrate operator overloading.\n",
        "    \"\"\"\n",
        "    def __init__(self, *components):\n",
        "        \"\"\"\n",
        "        Initializes a Vector object with a variable number of components.\n",
        "\n",
        "        Args:\n",
        "            *components: A variable number of integer or float values.\n",
        "        \"\"\"\n",
        "        self.components = list(components)\n",
        "\n",
        "    def __str__(self):\n",
        "        \"\"\"\n",
        "        Returns a human-readable string representation of the vector.\n",
        "        \"\"\"\n",
        "        return f\"Vector({', '.join(map(str, self.components))})\"\n",
        "\n",
        "    def __add__(self, other):\n",
        "        \"\"\"\n",
        "        Overloads the '+' operator to perform vector addition.\n",
        "\n",
        "        Args:\n",
        "            other: The other Vector object to add.\n",
        "\n",
        "        Returns:\n",
        "            A new Vector object that is the sum of the two vectors.\n",
        "\n",
        "        Raises:\n",
        "            TypeError: If the two vectors have a different number of components.\n",
        "        \"\"\"\n",
        "        # Ensure that both vectors have the same dimension\n",
        "        if len(self.components) != len(other.components):\n",
        "            raise TypeError(\"Vectors must have the same number of components for addition.\")\n",
        "\n",
        "        # Add components element-wise and return a new Vector\n",
        "        new_components = [\n",
        "            self.components[i] + other.components[i]\n",
        "            for i in range(len(self.components))\n",
        "        ]\n",
        "        return Vector(*new_components)\n",
        "\n",
        "# --- Example Usage ---\n",
        "\n",
        "# Create two Vector objects\n",
        "v1 = Vector(2, 4, 6)\n",
        "v2 = Vector(1, 3, 5)\n",
        "\n",
        "print(f\"Vector 1: {v1}\")\n",
        "print(f\"Vector 2: {v2}\")\n",
        "\n",
        "# Add the two vectors using the overloaded '+' operator\n",
        "v_sum = v1 + v2\n",
        "print(f\"\\nSum of vectors: {v_sum}\")\n",
        "\n",
        "# Demonstration with two-dimensional vectors\n",
        "v3 = Vector(10, -5)\n",
        "v4 = Vector(3, 7)\n",
        "print(f\"\\nAnother pair of vectors: {v3} and {v4}\")\n",
        "v_sum2 = v3 + v4\n",
        "print(f\"Sum of the second pair: {v_sum2}\")\n",
        "\n",
        "# Demonstrate the type error for vectors of different dimensions\n",
        "try:\n",
        "    v_error = v1 + Vector(1, 2)\n",
        "except TypeError as e:\n",
        "    print(f\"\\nCaught an error: {e}\")\n",
        "\n"
      ],
      "metadata": {
        "colab": {
          "base_uri": "https://localhost:8080/"
        },
        "id": "JO047_xKGJj-",
        "outputId": "005cd08a-cb8a-415f-d0fc-8d726757615c"
      },
      "execution_count": null,
      "outputs": [
        {
          "output_type": "stream",
          "name": "stdout",
          "text": [
            "Vector 1: Vector(2, 4, 6)\n",
            "Vector 2: Vector(1, 3, 5)\n",
            "\n",
            "Sum of vectors: Vector(3, 7, 11)\n",
            "\n",
            "Another pair of vectors: Vector(10, -5) and Vector(3, 7)\n",
            "Sum of the second pair: Vector(13, 2)\n",
            "\n",
            "Caught an error: Vectors must have the same number of components for addition.\n"
          ]
        }
      ]
    },
    {
      "cell_type": "markdown",
      "source": [
        "11. Create a class Person with attributes name and age. Add a method greet() that prints \"Hello, my name is\n",
        "{name} and I am {age} years old.\"\n",
        "\n",
        "\n"
      ],
      "metadata": {
        "id": "VBqE9ju28l7S"
      }
    },
    {
      "cell_type": "code",
      "source": [
        "class Person:\n",
        "    \"\"\"\n",
        "    A class to represent a person with a name and age.\n",
        "    \"\"\"\n",
        "    def __init__(self, name, age):\n",
        "        \"\"\"\n",
        "        Initializes a Person object with a name and age.\n",
        "\n",
        "        Args:\n",
        "            name (str): The name of the person.\n",
        "            age (int): The age of the person.\n",
        "        \"\"\"\n",
        "        self.name = name\n",
        "        self.age = age\n",
        "\n",
        "    def greet(self):\n",
        "        \"\"\"\n",
        "        Prints a greeting message using the person's name and age.\n",
        "        \"\"\"\n",
        "        print(f\"Hello, my name is {self.name} and I am {self.age} years old.\")\n",
        "\n",
        "# --- Example Usage ---\n",
        "\n",
        "# Create two instances of the Person class\n",
        "person1 = Person(\"Alice\", 30)\n",
        "person2 = Person(\"Bob\", 25)\n",
        "\n",
        "# Call the greet() method on each instance\n",
        "person1.greet()\n",
        "person2.greet()\n"
      ],
      "metadata": {
        "colab": {
          "base_uri": "https://localhost:8080/"
        },
        "id": "Cu4KDFpEF-hm",
        "outputId": "724c8833-e3c4-40a9-dc1e-eaf247585833"
      },
      "execution_count": null,
      "outputs": [
        {
          "output_type": "stream",
          "name": "stdout",
          "text": [
            "Hello, my name is Alice and I am 30 years old.\n",
            "Hello, my name is Bob and I am 25 years old.\n"
          ]
        }
      ]
    },
    {
      "cell_type": "markdown",
      "source": [
        "12.Implement a class Student with attributes name and grades. Create a method average_grade() to compute\n",
        "the average of the grades."
      ],
      "metadata": {
        "id": "Er6v7dKqGc2F"
      }
    },
    {
      "cell_type": "code",
      "source": [
        "class Student:\n",
        "    \"\"\"\n",
        "    A class to represent a student with a name and a list of grades.\n",
        "    \"\"\"\n",
        "    def __init__(self, name, grades):\n",
        "        \"\"\"\n",
        "        Initializes a Student object.\n",
        "\n",
        "        Args:\n",
        "            name (str): The name of the student.\n",
        "            grades (list): A list of numerical grades.\n",
        "        \"\"\"\n",
        "        self.name = name\n",
        "        self.grades = grades\n",
        "\n",
        "    def average_grade(self):\n",
        "        \"\"\"\n",
        "        Computes the average of the student's grades.\n",
        "\n",
        "        Returns:\n",
        "            float: The average grade, or 0 if there are no grades.\n",
        "        \"\"\"\n",
        "        # Check if the list of grades is not empty to avoid division by zero\n",
        "        if not self.grades:\n",
        "            return 0\n",
        "        return sum(self.grades) / len(self.grades)\n",
        "\n",
        "# --- Example Usage ---\n",
        "\n",
        "# Create a student with a list of grades\n",
        "student1 = Student(\"Alice\", [90, 85, 92, 88])\n",
        "student2 = Student(\"Bob\", [78, 81, 75])\n",
        "student3 = Student(\"Charlie\", [])\n",
        "\n",
        "# Compute and print the average grade for each student\n",
        "print(f\"{student1.name}'s grades: {student1.grades}\")\n",
        "print(f\"{student1.name}'s average grade is: {student1.average_grade():.2f}\")\n",
        "\n",
        "print(f\"\\n{student2.name}'s grades: {student2.grades}\")\n",
        "print(f\"{student2.name}'s average grade is: {student2.average_grade():.2f}\")\n",
        "\n",
        "print(f\"\\n{student3.name}'s grades: {student3.grades}\")\n",
        "print(f\"{student3.name}'s average grade is: {student3.average_grade():.2f}\")\n",
        "\n"
      ],
      "metadata": {
        "colab": {
          "base_uri": "https://localhost:8080/"
        },
        "id": "TX9_k57AGvVd",
        "outputId": "c1a20b2f-dd40-43d6-b823-d2dc48f5e915"
      },
      "execution_count": null,
      "outputs": [
        {
          "output_type": "stream",
          "name": "stdout",
          "text": [
            "Alice's grades: [90, 85, 92, 88]\n",
            "Alice's average grade is: 88.75\n",
            "\n",
            "Bob's grades: [78, 81, 75]\n",
            "Bob's average grade is: 78.00\n",
            "\n",
            "Charlie's grades: []\n",
            "Charlie's average grade is: 0.00\n"
          ]
        }
      ]
    },
    {
      "cell_type": "markdown",
      "source": [
        "13.Create a class Rectangle with methods set_dimensions() to set the dimensions and area() to calculate the\n",
        "area."
      ],
      "metadata": {
        "id": "uUyEnKvUG3Gj"
      }
    },
    {
      "cell_type": "code",
      "source": [
        "class Rectangle:\n",
        "    def __init__(self, length=0, width=0):\n",
        "        # Initialize the rectangle with default or provided length and width\n",
        "        self.length = length\n",
        "        self.width = width\n",
        "\n",
        "    def set_dimensions(self, length, width):\n",
        "        # Set the dimensions of the rectangle\n",
        "        self.length = length\n",
        "        self.width = width\n",
        "\n",
        "    def area(self):\n",
        "        # Calculate and return the area of the rectangle\n",
        "        return self.length * self.width\n",
        "\n",
        "# Example usage:\n",
        "rect = Rectangle()\n",
        "rect.set_dimensions(5, 3)\n",
        "print(f\"Area of the rectangle: {rect.area()}\")  # Output will be 15\n"
      ],
      "metadata": {
        "id": "v_B3g4LcFSfK",
        "colab": {
          "base_uri": "https://localhost:8080/"
        },
        "outputId": "fda525cf-babb-4a20-8bce-d3410b67c4d2"
      },
      "execution_count": 1,
      "outputs": [
        {
          "output_type": "stream",
          "name": "stdout",
          "text": [
            "Area of the rectangle: 15\n"
          ]
        }
      ]
    },
    {
      "cell_type": "markdown",
      "source": [
        "14. Create a class Employee with a method calculate_salary() that computes the salary based on hours worked\n",
        "and hourly rate. Create a derived class Manager that adds a bonus to the salary."
      ],
      "metadata": {
        "id": "NU-5tBqZ5-1Z"
      }
    },
    {
      "cell_type": "code",
      "source": [
        "# Base class: Employee\n",
        "class Employee:\n",
        "    def __init__(self, name, hours_worked, hourly_rate):\n",
        "        self.name = name\n",
        "        self.hours_worked = hours_worked\n",
        "        self.hourly_rate = hourly_rate\n",
        "\n",
        "    def calculate_salary(self):\n",
        "        # Calculate the salary as hours worked multiplied by hourly rate\n",
        "        return self.hours_worked * self.hourly_rate\n",
        "\n",
        "# Derived class: Manager\n",
        "class Manager(Employee):\n",
        "    def __init__(self, name, hours_worked, hourly_rate, bonus):\n",
        "        # Initialize the parent class with name, hours worked, and hourly rate\n",
        "        super().__init__(name, hours_worked, hourly_rate)\n",
        "        self.bonus = bonus\n",
        "\n",
        "    def calculate_salary(self):\n",
        "        # Calculate salary from base class method and add the bonus\n",
        "        base_salary = super().calculate_salary()\n",
        "        return base_salary + self.bonus\n",
        "\n",
        "# Example usage:\n",
        "employee = Employee(\"John Doe\", 160, 25)  # 160 hours worked, $25/hour\n",
        "print(f\"{employee.name}'s Salary: ${employee.calculate_salary()}\")\n",
        "\n",
        "manager = Manager(\"Alice Smith\", 160, 30, 1000)  # 160 hours worked, $30/hour, $1000 bonus\n",
        "print(f\"{manager.name}'s Salary: ${manager.calculate_salary()}\")\n"
      ],
      "metadata": {
        "colab": {
          "base_uri": "https://localhost:8080/"
        },
        "id": "Hw_Z2r7V6Flh",
        "outputId": "9e66e0e7-7a4c-40a6-96d9-bb5d34fe996f"
      },
      "execution_count": 2,
      "outputs": [
        {
          "output_type": "stream",
          "name": "stdout",
          "text": [
            "John Doe's Salary: $4000\n",
            "Alice Smith's Salary: $5800\n"
          ]
        }
      ]
    },
    {
      "cell_type": "markdown",
      "source": [
        "15. Create a class Product with attributes name, price, and quantity. Implement a method total_price() that\n",
        "calculates the total price of the product.\n",
        "\n",
        "\n"
      ],
      "metadata": {
        "id": "JFDUTtcx6NFa"
      }
    },
    {
      "cell_type": "code",
      "source": [
        "class Product:\n",
        "    def __init__(self, name, price, quantity):\n",
        "        self.name = name\n",
        "        self.price = price\n",
        "        self.quantity = quantity\n",
        "\n",
        "    def total_price(self):\n",
        "        # Calculate total price as price multiplied by quantity\n",
        "        return self.price * self.quantity\n",
        "\n",
        "# Example usage:\n",
        "product1 = Product(\"Laptop\", 1200, 3)  # Name: Laptop, Price: 1200, Quantity: 3\n",
        "print(f\"Total price for {product1.name}: ${product1.total_price()}\")\n",
        "\n",
        "product2 = Product(\"Phone\", 800, 5)  # Name: Phone, Price: 800, Quantity: 5\n",
        "print(f\"Total price for {product2.name}: ${product2.total_price()}\")\n"
      ],
      "metadata": {
        "colab": {
          "base_uri": "https://localhost:8080/"
        },
        "id": "4pwtoYmN6Txj",
        "outputId": "1aad28e1-fb55-4580-9fbd-45a37a4d18b6"
      },
      "execution_count": 3,
      "outputs": [
        {
          "output_type": "stream",
          "name": "stdout",
          "text": [
            "Total price for Laptop: $3600\n",
            "Total price for Phone: $4000\n"
          ]
        }
      ]
    },
    {
      "cell_type": "markdown",
      "source": [
        "16.Create a class Animal with an abstract method sound(). Create two derived classes Cow and Sheep that\n",
        "implement the sound() method."
      ],
      "metadata": {
        "id": "u4QCa4Om6aYp"
      }
    },
    {
      "cell_type": "code",
      "source": [
        "from abc import ABC, abstractmethod\n",
        "\n",
        "# Abstract Base Class: Animal\n",
        "class Animal(ABC):\n",
        "    @abstractmethod\n",
        "    def sound(self):\n",
        "        pass\n",
        "\n",
        "# Derived Class: Cow\n",
        "class Cow(Animal):\n",
        "    def sound(self):\n",
        "        return \"Moo\"\n",
        "\n",
        "# Derived Class: Sheep\n",
        "class Sheep(Animal):\n",
        "    def sound(self):\n",
        "        return \"Baa\"\n",
        "\n",
        "# Example usage:\n",
        "cow = Cow()\n",
        "sheep = Sheep()\n",
        "\n",
        "print(f\"Cow makes sound: {cow.sound()}\")\n",
        "print(f\"Sheep makes sound: {sheep.sound()}\")\n"
      ],
      "metadata": {
        "colab": {
          "base_uri": "https://localhost:8080/"
        },
        "id": "bAacSRVM6fMI",
        "outputId": "dfe2d167-b2ea-45b3-f774-05e289b04da4"
      },
      "execution_count": 4,
      "outputs": [
        {
          "output_type": "stream",
          "name": "stdout",
          "text": [
            "Cow makes sound: Moo\n",
            "Sheep makes sound: Baa\n"
          ]
        }
      ]
    },
    {
      "cell_type": "markdown",
      "source": [
        "17. Create a class Book with attributes title, author, and year_published. Add a method get_book_info() that\n",
        "returns a formatted string with the book's details."
      ],
      "metadata": {
        "id": "eyg4sqgN6nj7"
      }
    },
    {
      "cell_type": "code",
      "source": [
        "class Book:\n",
        "    def __init__(self, title, author, year_published):\n",
        "        self.title = title\n",
        "        self.author = author\n",
        "        self.year_published = year_published\n",
        "\n",
        "    def get_book_info(self):\n",
        "        # Return a formatted string with book details\n",
        "        return f\"'{self.title}' by {self.author}, published in {self.year_published}.\"\n",
        "\n",
        "# Example usage:\n",
        "book1 = Book(\"To Kill a Mockingbird\", \"Harper Lee\", 1960)\n",
        "print(book1.get_book_info())\n",
        "\n",
        "book2 = Book(\"1984\", \"George Orwell\", 1949)\n",
        "print(book2.get_book_info())\n"
      ],
      "metadata": {
        "colab": {
          "base_uri": "https://localhost:8080/"
        },
        "id": "hGUHlwT76s1v",
        "outputId": "e2e64f59-cd0c-4433-b956-0c331a0db2b3"
      },
      "execution_count": 5,
      "outputs": [
        {
          "output_type": "stream",
          "name": "stdout",
          "text": [
            "'To Kill a Mockingbird' by Harper Lee, published in 1960.\n",
            "'1984' by George Orwell, published in 1949.\n"
          ]
        }
      ]
    },
    {
      "cell_type": "markdown",
      "source": [
        "18.Create a class House with attributes address and price. Create a derived class Mansion that adds an\n",
        "attribute number_of_rooms."
      ],
      "metadata": {
        "id": "OSUD28FS63AX"
      }
    },
    {
      "cell_type": "code",
      "source": [
        "# Base class: House\n",
        "class House:\n",
        "    def __init__(self, address, price):\n",
        "        self.address = address\n",
        "        self.price = price\n",
        "\n",
        "    def get_info(self):\n",
        "        return f\"Address: {self.address}, Price: ${self.price}\"\n",
        "\n",
        "# Derived class: Mansion\n",
        "class Mansion(House):\n",
        "    def __init__(self, address, price, number_of_rooms):\n",
        "        super().__init__(address, price)\n",
        "        self.number_of_rooms = number_of_rooms\n",
        "\n",
        "    def get_info(self):\n",
        "        return f\"Address: {self.address}, Price: ${self.price}, Rooms: {self.number_of_rooms}\"\n",
        "\n",
        "# Example usage:\n",
        "house = House(\"123 Main St\", 250000)\n",
        "print(house.get_info())\n",
        "\n",
        "mansion = Mansion(\"456 Luxury Ave\", 1500000, 12)\n",
        "print(mansion.get_info())\n"
      ],
      "metadata": {
        "colab": {
          "base_uri": "https://localhost:8080/"
        },
        "id": "gXSH_h5466nL",
        "outputId": "91887647-17e9-4de8-995d-ebaf9c0b2878"
      },
      "execution_count": 6,
      "outputs": [
        {
          "output_type": "stream",
          "name": "stdout",
          "text": [
            "Address: 123 Main St, Price: $250000\n",
            "Address: 456 Luxury Ave, Price: $1500000, Rooms: 12\n"
          ]
        }
      ]
    }
  ]
}